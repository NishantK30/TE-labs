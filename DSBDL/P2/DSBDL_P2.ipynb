{
 "cells": [
  {
   "cell_type": "markdown",
   "metadata": {},
   "source": [
    "# Assignment 2"
   ]
  },
  {
   "cell_type": "code",
   "execution_count": 1,
   "metadata": {},
   "outputs": [],
   "source": [
    "import pandas as pd\n",
    "import numpy as np"
   ]
  },
  {
   "cell_type": "code",
   "execution_count": 2,
   "metadata": {},
   "outputs": [],
   "source": [
    "df = pd.read_csv(\"/home/ubuntu/Documents/NishantTCOB41/DSBDL/P2/student_placment_stat1.csv\")"
   ]
  },
  {
   "cell_type": "code",
   "execution_count": 3,
   "metadata": {},
   "outputs": [],
   "source": [
    "df = df.set_index(df['Roll_no']).drop('Roll_no',axis=1)\n",
    "\n"
   ]
  },
  {
   "cell_type": "code",
   "execution_count": 4,
   "metadata": {},
   "outputs": [
    {
     "data": {
      "application/vnd.microsoft.datawrangler.viewer.v0+json": {
       "columns": [
        {
         "name": "Roll_no",
         "rawType": "int64",
         "type": "integer"
        },
        {
         "name": "Math_score",
         "rawType": "float64",
         "type": "float"
        },
        {
         "name": "Reading_score",
         "rawType": "float64",
         "type": "float"
        },
        {
         "name": "Writing_score",
         "rawType": "float64",
         "type": "float"
        },
        {
         "name": "Placement_score",
         "rawType": "float64",
         "type": "float"
        },
        {
         "name": "Club_join_date",
         "rawType": "float64",
         "type": "float"
        },
        {
         "name": "Placemen_offer_count",
         "rawType": "int64",
         "type": "integer"
        }
       ],
       "conversionMethod": "pd.DataFrame",
       "ref": "504f9704-46df-4f14-ae29-e22b3766ff5c",
       "rows": [
        [
         "1",
         "62.0",
         "88.0",
         "66.0",
         "86.0",
         "2018.0",
         "3"
        ],
        [
         "2",
         null,
         "88.0",
         "66.0",
         "83.0",
         "2020.0",
         "3"
        ],
        [
         "3",
         "79.0",
         "90.0",
         "75.0",
         "95.0",
         "2021.0",
         "3"
        ],
        [
         "4",
         "69.0",
         "89.0",
         "69.0",
         "82.0",
         null,
         "3"
        ],
        [
         "5",
         "61.0",
         null,
         "67.0",
         null,
         "2019.0",
         "3"
        ],
        [
         "6",
         "67.0",
         "75.0",
         "77.0",
         "94.0",
         "2021.0",
         "1"
        ],
        [
         "7",
         "74.0",
         "83.0",
         "65.0",
         "89.0",
         "2018.0",
         "3"
        ],
        [
         "8",
         "66.0",
         "84.0",
         "79.0",
         "77.0",
         "2019.0",
         "1"
        ],
        [
         "9",
         "71.0",
         "95.0",
         "69.0",
         "85.0",
         "2019.0",
         "3"
        ],
        [
         "10",
         "70.0",
         "89.0",
         "69.0",
         "100.0",
         "2020.0",
         "3"
        ],
        [
         "11",
         null,
         "93.0",
         "78.0",
         "84.0",
         "2021.0",
         "1"
        ],
        [
         "12",
         "72.0",
         null,
         "72.0",
         "97.0",
         "2019.0",
         "3"
        ],
        [
         "13",
         "75.0",
         "82.0",
         "63.0",
         "81.0",
         "2018.0",
         "3"
        ],
        [
         "14",
         "79.0",
         "78.0",
         null,
         "84.0",
         "2018.0",
         "3"
        ],
        [
         "15",
         "64.0",
         "77.0",
         "71.0",
         "87.0",
         "2020.0",
         "3"
        ],
        [
         "16",
         "74.0",
         "85.0",
         "73.0",
         "77.0",
         "2020.0",
         "3"
        ],
        [
         "17",
         "67.0",
         "77.0",
         "69.0",
         "81.0",
         "2021.0",
         "3"
        ],
        [
         "18",
         "77.0",
         "81.0",
         "76.0",
         "81.0",
         "2019.0",
         "1"
        ],
        [
         "19",
         "66.0",
         "84.0",
         null,
         "91.0",
         "2020.0",
         "1"
        ],
        [
         "20",
         "72.0",
         "95.0",
         "72.0",
         "82.0",
         "2021.0",
         "3"
        ],
        [
         "21",
         "73.0",
         "86.0",
         "68.0",
         "98.0",
         "2019.0",
         "3"
        ],
        [
         "22",
         "72.0",
         "89.0",
         "64.0",
         "87.0",
         "2018.0",
         "3"
        ],
        [
         "23",
         "79.0",
         "88.0",
         "65.0",
         "84.0",
         "2020.0",
         "3"
        ],
        [
         "24",
         "60.0",
         "82.0",
         "71.0",
         "100.0",
         "2021.0",
         "3"
        ],
        [
         "25",
         "64.0",
         "80.0",
         "69.0",
         "84.0",
         "2018.0",
         "3"
        ],
        [
         "26",
         "77.0",
         "94.0",
         "80.0",
         "86.0",
         "2019.0",
         "1"
        ],
        [
         "27",
         "60.0",
         "77.0",
         "68.0",
         "97.0",
         "2021.0",
         "3"
        ],
        [
         "28",
         "78.0",
         "90.0",
         "79.0",
         "91.0",
         "2021.0",
         "1"
        ],
        [
         "29",
         "78.0",
         "95.0",
         "60.0",
         "87.0",
         "2021.0",
         "3"
        ],
        [
         "30",
         "62.0",
         "78.0",
         "65.0",
         "89.0",
         "2020.0",
         "3"
        ]
       ],
       "shape": {
        "columns": 6,
        "rows": 30
       }
      },
      "text/html": [
       "<div>\n",
       "<style scoped>\n",
       "    .dataframe tbody tr th:only-of-type {\n",
       "        vertical-align: middle;\n",
       "    }\n",
       "\n",
       "    .dataframe tbody tr th {\n",
       "        vertical-align: top;\n",
       "    }\n",
       "\n",
       "    .dataframe thead th {\n",
       "        text-align: right;\n",
       "    }\n",
       "</style>\n",
       "<table border=\"1\" class=\"dataframe\">\n",
       "  <thead>\n",
       "    <tr style=\"text-align: right;\">\n",
       "      <th></th>\n",
       "      <th>Math_score</th>\n",
       "      <th>Reading_score</th>\n",
       "      <th>Writing_score</th>\n",
       "      <th>Placement_score</th>\n",
       "      <th>Club_join_date</th>\n",
       "      <th>Placemen_offer_count</th>\n",
       "    </tr>\n",
       "    <tr>\n",
       "      <th>Roll_no</th>\n",
       "      <th></th>\n",
       "      <th></th>\n",
       "      <th></th>\n",
       "      <th></th>\n",
       "      <th></th>\n",
       "      <th></th>\n",
       "    </tr>\n",
       "  </thead>\n",
       "  <tbody>\n",
       "    <tr>\n",
       "      <th>1</th>\n",
       "      <td>62.0</td>\n",
       "      <td>88.0</td>\n",
       "      <td>66.0</td>\n",
       "      <td>86.0</td>\n",
       "      <td>2018.0</td>\n",
       "      <td>3</td>\n",
       "    </tr>\n",
       "    <tr>\n",
       "      <th>2</th>\n",
       "      <td>NaN</td>\n",
       "      <td>88.0</td>\n",
       "      <td>66.0</td>\n",
       "      <td>83.0</td>\n",
       "      <td>2020.0</td>\n",
       "      <td>3</td>\n",
       "    </tr>\n",
       "    <tr>\n",
       "      <th>3</th>\n",
       "      <td>79.0</td>\n",
       "      <td>90.0</td>\n",
       "      <td>75.0</td>\n",
       "      <td>95.0</td>\n",
       "      <td>2021.0</td>\n",
       "      <td>3</td>\n",
       "    </tr>\n",
       "    <tr>\n",
       "      <th>4</th>\n",
       "      <td>69.0</td>\n",
       "      <td>89.0</td>\n",
       "      <td>69.0</td>\n",
       "      <td>82.0</td>\n",
       "      <td>NaN</td>\n",
       "      <td>3</td>\n",
       "    </tr>\n",
       "    <tr>\n",
       "      <th>5</th>\n",
       "      <td>61.0</td>\n",
       "      <td>NaN</td>\n",
       "      <td>67.0</td>\n",
       "      <td>NaN</td>\n",
       "      <td>2019.0</td>\n",
       "      <td>3</td>\n",
       "    </tr>\n",
       "    <tr>\n",
       "      <th>6</th>\n",
       "      <td>67.0</td>\n",
       "      <td>75.0</td>\n",
       "      <td>77.0</td>\n",
       "      <td>94.0</td>\n",
       "      <td>2021.0</td>\n",
       "      <td>1</td>\n",
       "    </tr>\n",
       "    <tr>\n",
       "      <th>7</th>\n",
       "      <td>74.0</td>\n",
       "      <td>83.0</td>\n",
       "      <td>65.0</td>\n",
       "      <td>89.0</td>\n",
       "      <td>2018.0</td>\n",
       "      <td>3</td>\n",
       "    </tr>\n",
       "    <tr>\n",
       "      <th>8</th>\n",
       "      <td>66.0</td>\n",
       "      <td>84.0</td>\n",
       "      <td>79.0</td>\n",
       "      <td>77.0</td>\n",
       "      <td>2019.0</td>\n",
       "      <td>1</td>\n",
       "    </tr>\n",
       "    <tr>\n",
       "      <th>9</th>\n",
       "      <td>71.0</td>\n",
       "      <td>95.0</td>\n",
       "      <td>69.0</td>\n",
       "      <td>85.0</td>\n",
       "      <td>2019.0</td>\n",
       "      <td>3</td>\n",
       "    </tr>\n",
       "    <tr>\n",
       "      <th>10</th>\n",
       "      <td>70.0</td>\n",
       "      <td>89.0</td>\n",
       "      <td>69.0</td>\n",
       "      <td>100.0</td>\n",
       "      <td>2020.0</td>\n",
       "      <td>3</td>\n",
       "    </tr>\n",
       "    <tr>\n",
       "      <th>11</th>\n",
       "      <td>NaN</td>\n",
       "      <td>93.0</td>\n",
       "      <td>78.0</td>\n",
       "      <td>84.0</td>\n",
       "      <td>2021.0</td>\n",
       "      <td>1</td>\n",
       "    </tr>\n",
       "    <tr>\n",
       "      <th>12</th>\n",
       "      <td>72.0</td>\n",
       "      <td>NaN</td>\n",
       "      <td>72.0</td>\n",
       "      <td>97.0</td>\n",
       "      <td>2019.0</td>\n",
       "      <td>3</td>\n",
       "    </tr>\n",
       "    <tr>\n",
       "      <th>13</th>\n",
       "      <td>75.0</td>\n",
       "      <td>82.0</td>\n",
       "      <td>63.0</td>\n",
       "      <td>81.0</td>\n",
       "      <td>2018.0</td>\n",
       "      <td>3</td>\n",
       "    </tr>\n",
       "    <tr>\n",
       "      <th>14</th>\n",
       "      <td>79.0</td>\n",
       "      <td>78.0</td>\n",
       "      <td>NaN</td>\n",
       "      <td>84.0</td>\n",
       "      <td>2018.0</td>\n",
       "      <td>3</td>\n",
       "    </tr>\n",
       "    <tr>\n",
       "      <th>15</th>\n",
       "      <td>64.0</td>\n",
       "      <td>77.0</td>\n",
       "      <td>71.0</td>\n",
       "      <td>87.0</td>\n",
       "      <td>2020.0</td>\n",
       "      <td>3</td>\n",
       "    </tr>\n",
       "    <tr>\n",
       "      <th>16</th>\n",
       "      <td>74.0</td>\n",
       "      <td>85.0</td>\n",
       "      <td>73.0</td>\n",
       "      <td>77.0</td>\n",
       "      <td>2020.0</td>\n",
       "      <td>3</td>\n",
       "    </tr>\n",
       "    <tr>\n",
       "      <th>17</th>\n",
       "      <td>67.0</td>\n",
       "      <td>77.0</td>\n",
       "      <td>69.0</td>\n",
       "      <td>81.0</td>\n",
       "      <td>2021.0</td>\n",
       "      <td>3</td>\n",
       "    </tr>\n",
       "    <tr>\n",
       "      <th>18</th>\n",
       "      <td>77.0</td>\n",
       "      <td>81.0</td>\n",
       "      <td>76.0</td>\n",
       "      <td>81.0</td>\n",
       "      <td>2019.0</td>\n",
       "      <td>1</td>\n",
       "    </tr>\n",
       "    <tr>\n",
       "      <th>19</th>\n",
       "      <td>66.0</td>\n",
       "      <td>84.0</td>\n",
       "      <td>NaN</td>\n",
       "      <td>91.0</td>\n",
       "      <td>2020.0</td>\n",
       "      <td>1</td>\n",
       "    </tr>\n",
       "    <tr>\n",
       "      <th>20</th>\n",
       "      <td>72.0</td>\n",
       "      <td>95.0</td>\n",
       "      <td>72.0</td>\n",
       "      <td>82.0</td>\n",
       "      <td>2021.0</td>\n",
       "      <td>3</td>\n",
       "    </tr>\n",
       "    <tr>\n",
       "      <th>21</th>\n",
       "      <td>73.0</td>\n",
       "      <td>86.0</td>\n",
       "      <td>68.0</td>\n",
       "      <td>98.0</td>\n",
       "      <td>2019.0</td>\n",
       "      <td>3</td>\n",
       "    </tr>\n",
       "    <tr>\n",
       "      <th>22</th>\n",
       "      <td>72.0</td>\n",
       "      <td>89.0</td>\n",
       "      <td>64.0</td>\n",
       "      <td>87.0</td>\n",
       "      <td>2018.0</td>\n",
       "      <td>3</td>\n",
       "    </tr>\n",
       "    <tr>\n",
       "      <th>23</th>\n",
       "      <td>79.0</td>\n",
       "      <td>88.0</td>\n",
       "      <td>65.0</td>\n",
       "      <td>84.0</td>\n",
       "      <td>2020.0</td>\n",
       "      <td>3</td>\n",
       "    </tr>\n",
       "    <tr>\n",
       "      <th>24</th>\n",
       "      <td>60.0</td>\n",
       "      <td>82.0</td>\n",
       "      <td>71.0</td>\n",
       "      <td>100.0</td>\n",
       "      <td>2021.0</td>\n",
       "      <td>3</td>\n",
       "    </tr>\n",
       "    <tr>\n",
       "      <th>25</th>\n",
       "      <td>64.0</td>\n",
       "      <td>80.0</td>\n",
       "      <td>69.0</td>\n",
       "      <td>84.0</td>\n",
       "      <td>2018.0</td>\n",
       "      <td>3</td>\n",
       "    </tr>\n",
       "    <tr>\n",
       "      <th>26</th>\n",
       "      <td>77.0</td>\n",
       "      <td>94.0</td>\n",
       "      <td>80.0</td>\n",
       "      <td>86.0</td>\n",
       "      <td>2019.0</td>\n",
       "      <td>1</td>\n",
       "    </tr>\n",
       "    <tr>\n",
       "      <th>27</th>\n",
       "      <td>60.0</td>\n",
       "      <td>77.0</td>\n",
       "      <td>68.0</td>\n",
       "      <td>97.0</td>\n",
       "      <td>2021.0</td>\n",
       "      <td>3</td>\n",
       "    </tr>\n",
       "    <tr>\n",
       "      <th>28</th>\n",
       "      <td>78.0</td>\n",
       "      <td>90.0</td>\n",
       "      <td>79.0</td>\n",
       "      <td>91.0</td>\n",
       "      <td>2021.0</td>\n",
       "      <td>1</td>\n",
       "    </tr>\n",
       "    <tr>\n",
       "      <th>29</th>\n",
       "      <td>78.0</td>\n",
       "      <td>95.0</td>\n",
       "      <td>60.0</td>\n",
       "      <td>87.0</td>\n",
       "      <td>2021.0</td>\n",
       "      <td>3</td>\n",
       "    </tr>\n",
       "    <tr>\n",
       "      <th>30</th>\n",
       "      <td>62.0</td>\n",
       "      <td>78.0</td>\n",
       "      <td>65.0</td>\n",
       "      <td>89.0</td>\n",
       "      <td>2020.0</td>\n",
       "      <td>3</td>\n",
       "    </tr>\n",
       "  </tbody>\n",
       "</table>\n",
       "</div>"
      ],
      "text/plain": [
       "         Math_score  Reading_score  Writing_score  Placement_score  \\\n",
       "Roll_no                                                              \n",
       "1              62.0           88.0           66.0             86.0   \n",
       "2               NaN           88.0           66.0             83.0   \n",
       "3              79.0           90.0           75.0             95.0   \n",
       "4              69.0           89.0           69.0             82.0   \n",
       "5              61.0            NaN           67.0              NaN   \n",
       "6              67.0           75.0           77.0             94.0   \n",
       "7              74.0           83.0           65.0             89.0   \n",
       "8              66.0           84.0           79.0             77.0   \n",
       "9              71.0           95.0           69.0             85.0   \n",
       "10             70.0           89.0           69.0            100.0   \n",
       "11              NaN           93.0           78.0             84.0   \n",
       "12             72.0            NaN           72.0             97.0   \n",
       "13             75.0           82.0           63.0             81.0   \n",
       "14             79.0           78.0            NaN             84.0   \n",
       "15             64.0           77.0           71.0             87.0   \n",
       "16             74.0           85.0           73.0             77.0   \n",
       "17             67.0           77.0           69.0             81.0   \n",
       "18             77.0           81.0           76.0             81.0   \n",
       "19             66.0           84.0            NaN             91.0   \n",
       "20             72.0           95.0           72.0             82.0   \n",
       "21             73.0           86.0           68.0             98.0   \n",
       "22             72.0           89.0           64.0             87.0   \n",
       "23             79.0           88.0           65.0             84.0   \n",
       "24             60.0           82.0           71.0            100.0   \n",
       "25             64.0           80.0           69.0             84.0   \n",
       "26             77.0           94.0           80.0             86.0   \n",
       "27             60.0           77.0           68.0             97.0   \n",
       "28             78.0           90.0           79.0             91.0   \n",
       "29             78.0           95.0           60.0             87.0   \n",
       "30             62.0           78.0           65.0             89.0   \n",
       "\n",
       "         Club_join_date  Placemen_offer_count  \n",
       "Roll_no                                        \n",
       "1                2018.0                     3  \n",
       "2                2020.0                     3  \n",
       "3                2021.0                     3  \n",
       "4                   NaN                     3  \n",
       "5                2019.0                     3  \n",
       "6                2021.0                     1  \n",
       "7                2018.0                     3  \n",
       "8                2019.0                     1  \n",
       "9                2019.0                     3  \n",
       "10               2020.0                     3  \n",
       "11               2021.0                     1  \n",
       "12               2019.0                     3  \n",
       "13               2018.0                     3  \n",
       "14               2018.0                     3  \n",
       "15               2020.0                     3  \n",
       "16               2020.0                     3  \n",
       "17               2021.0                     3  \n",
       "18               2019.0                     1  \n",
       "19               2020.0                     1  \n",
       "20               2021.0                     3  \n",
       "21               2019.0                     3  \n",
       "22               2018.0                     3  \n",
       "23               2020.0                     3  \n",
       "24               2021.0                     3  \n",
       "25               2018.0                     3  \n",
       "26               2019.0                     1  \n",
       "27               2021.0                     3  \n",
       "28               2021.0                     1  \n",
       "29               2021.0                     3  \n",
       "30               2020.0                     3  "
      ]
     },
     "execution_count": 4,
     "metadata": {},
     "output_type": "execute_result"
    }
   ],
   "source": [
    "\n",
    "df"
   ]
  },
  {
   "cell_type": "code",
   "execution_count": 5,
   "metadata": {},
   "outputs": [
    {
     "data": {
      "application/vnd.microsoft.datawrangler.viewer.v0+json": {
       "columns": [
        {
         "name": "Roll_no",
         "rawType": "int64",
         "type": "integer"
        },
        {
         "name": "Math_score",
         "rawType": "bool",
         "type": "boolean"
        },
        {
         "name": "Reading_score",
         "rawType": "bool",
         "type": "boolean"
        },
        {
         "name": "Writing_score",
         "rawType": "bool",
         "type": "boolean"
        },
        {
         "name": "Placement_score",
         "rawType": "bool",
         "type": "boolean"
        },
        {
         "name": "Club_join_date",
         "rawType": "bool",
         "type": "boolean"
        },
        {
         "name": "Placemen_offer_count",
         "rawType": "bool",
         "type": "boolean"
        }
       ],
       "conversionMethod": "pd.DataFrame",
       "ref": "49491e14-02dd-4e2f-9237-a73096104be6",
       "rows": [
        [
         "1",
         "False",
         "False",
         "False",
         "False",
         "False",
         "False"
        ],
        [
         "2",
         "True",
         "False",
         "False",
         "False",
         "False",
         "False"
        ],
        [
         "3",
         "False",
         "False",
         "False",
         "False",
         "False",
         "False"
        ],
        [
         "4",
         "False",
         "False",
         "False",
         "False",
         "True",
         "False"
        ],
        [
         "5",
         "False",
         "True",
         "False",
         "True",
         "False",
         "False"
        ]
       ],
       "shape": {
        "columns": 6,
        "rows": 5
       }
      },
      "text/html": [
       "<div>\n",
       "<style scoped>\n",
       "    .dataframe tbody tr th:only-of-type {\n",
       "        vertical-align: middle;\n",
       "    }\n",
       "\n",
       "    .dataframe tbody tr th {\n",
       "        vertical-align: top;\n",
       "    }\n",
       "\n",
       "    .dataframe thead th {\n",
       "        text-align: right;\n",
       "    }\n",
       "</style>\n",
       "<table border=\"1\" class=\"dataframe\">\n",
       "  <thead>\n",
       "    <tr style=\"text-align: right;\">\n",
       "      <th></th>\n",
       "      <th>Math_score</th>\n",
       "      <th>Reading_score</th>\n",
       "      <th>Writing_score</th>\n",
       "      <th>Placement_score</th>\n",
       "      <th>Club_join_date</th>\n",
       "      <th>Placemen_offer_count</th>\n",
       "    </tr>\n",
       "    <tr>\n",
       "      <th>Roll_no</th>\n",
       "      <th></th>\n",
       "      <th></th>\n",
       "      <th></th>\n",
       "      <th></th>\n",
       "      <th></th>\n",
       "      <th></th>\n",
       "    </tr>\n",
       "  </thead>\n",
       "  <tbody>\n",
       "    <tr>\n",
       "      <th>1</th>\n",
       "      <td>False</td>\n",
       "      <td>False</td>\n",
       "      <td>False</td>\n",
       "      <td>False</td>\n",
       "      <td>False</td>\n",
       "      <td>False</td>\n",
       "    </tr>\n",
       "    <tr>\n",
       "      <th>2</th>\n",
       "      <td>True</td>\n",
       "      <td>False</td>\n",
       "      <td>False</td>\n",
       "      <td>False</td>\n",
       "      <td>False</td>\n",
       "      <td>False</td>\n",
       "    </tr>\n",
       "    <tr>\n",
       "      <th>3</th>\n",
       "      <td>False</td>\n",
       "      <td>False</td>\n",
       "      <td>False</td>\n",
       "      <td>False</td>\n",
       "      <td>False</td>\n",
       "      <td>False</td>\n",
       "    </tr>\n",
       "    <tr>\n",
       "      <th>4</th>\n",
       "      <td>False</td>\n",
       "      <td>False</td>\n",
       "      <td>False</td>\n",
       "      <td>False</td>\n",
       "      <td>True</td>\n",
       "      <td>False</td>\n",
       "    </tr>\n",
       "    <tr>\n",
       "      <th>5</th>\n",
       "      <td>False</td>\n",
       "      <td>True</td>\n",
       "      <td>False</td>\n",
       "      <td>True</td>\n",
       "      <td>False</td>\n",
       "      <td>False</td>\n",
       "    </tr>\n",
       "  </tbody>\n",
       "</table>\n",
       "</div>"
      ],
      "text/plain": [
       "         Math_score  Reading_score  Writing_score  Placement_score  \\\n",
       "Roll_no                                                              \n",
       "1             False          False          False            False   \n",
       "2              True          False          False            False   \n",
       "3             False          False          False            False   \n",
       "4             False          False          False            False   \n",
       "5             False           True          False             True   \n",
       "\n",
       "         Club_join_date  Placemen_offer_count  \n",
       "Roll_no                                        \n",
       "1                 False                 False  \n",
       "2                 False                 False  \n",
       "3                 False                 False  \n",
       "4                  True                 False  \n",
       "5                 False                 False  "
      ]
     },
     "execution_count": 5,
     "metadata": {},
     "output_type": "execute_result"
    }
   ],
   "source": [
    "df.isnull().head()"
   ]
  },
  {
   "cell_type": "code",
   "execution_count": 6,
   "metadata": {},
   "outputs": [
    {
     "data": {
      "application/vnd.microsoft.datawrangler.viewer.v0+json": {
       "columns": [
        {
         "name": "Roll_no",
         "rawType": "int64",
         "type": "integer"
        },
        {
         "name": "Math_score",
         "rawType": "bool",
         "type": "boolean"
        },
        {
         "name": "Reading_score",
         "rawType": "bool",
         "type": "boolean"
        },
        {
         "name": "Writing_score",
         "rawType": "bool",
         "type": "boolean"
        },
        {
         "name": "Placement_score",
         "rawType": "bool",
         "type": "boolean"
        },
        {
         "name": "Club_join_date",
         "rawType": "bool",
         "type": "boolean"
        },
        {
         "name": "Placemen_offer_count",
         "rawType": "bool",
         "type": "boolean"
        }
       ],
       "conversionMethod": "pd.DataFrame",
       "ref": "650d2923-e6d8-4092-acd2-82c9b363261f",
       "rows": [
        [
         "1",
         "True",
         "True",
         "True",
         "True",
         "True",
         "True"
        ],
        [
         "2",
         "False",
         "True",
         "True",
         "True",
         "True",
         "True"
        ],
        [
         "3",
         "True",
         "True",
         "True",
         "True",
         "True",
         "True"
        ],
        [
         "4",
         "True",
         "True",
         "True",
         "True",
         "False",
         "True"
        ],
        [
         "5",
         "True",
         "False",
         "True",
         "False",
         "True",
         "True"
        ]
       ],
       "shape": {
        "columns": 6,
        "rows": 5
       }
      },
      "text/html": [
       "<div>\n",
       "<style scoped>\n",
       "    .dataframe tbody tr th:only-of-type {\n",
       "        vertical-align: middle;\n",
       "    }\n",
       "\n",
       "    .dataframe tbody tr th {\n",
       "        vertical-align: top;\n",
       "    }\n",
       "\n",
       "    .dataframe thead th {\n",
       "        text-align: right;\n",
       "    }\n",
       "</style>\n",
       "<table border=\"1\" class=\"dataframe\">\n",
       "  <thead>\n",
       "    <tr style=\"text-align: right;\">\n",
       "      <th></th>\n",
       "      <th>Math_score</th>\n",
       "      <th>Reading_score</th>\n",
       "      <th>Writing_score</th>\n",
       "      <th>Placement_score</th>\n",
       "      <th>Club_join_date</th>\n",
       "      <th>Placemen_offer_count</th>\n",
       "    </tr>\n",
       "    <tr>\n",
       "      <th>Roll_no</th>\n",
       "      <th></th>\n",
       "      <th></th>\n",
       "      <th></th>\n",
       "      <th></th>\n",
       "      <th></th>\n",
       "      <th></th>\n",
       "    </tr>\n",
       "  </thead>\n",
       "  <tbody>\n",
       "    <tr>\n",
       "      <th>1</th>\n",
       "      <td>True</td>\n",
       "      <td>True</td>\n",
       "      <td>True</td>\n",
       "      <td>True</td>\n",
       "      <td>True</td>\n",
       "      <td>True</td>\n",
       "    </tr>\n",
       "    <tr>\n",
       "      <th>2</th>\n",
       "      <td>False</td>\n",
       "      <td>True</td>\n",
       "      <td>True</td>\n",
       "      <td>True</td>\n",
       "      <td>True</td>\n",
       "      <td>True</td>\n",
       "    </tr>\n",
       "    <tr>\n",
       "      <th>3</th>\n",
       "      <td>True</td>\n",
       "      <td>True</td>\n",
       "      <td>True</td>\n",
       "      <td>True</td>\n",
       "      <td>True</td>\n",
       "      <td>True</td>\n",
       "    </tr>\n",
       "    <tr>\n",
       "      <th>4</th>\n",
       "      <td>True</td>\n",
       "      <td>True</td>\n",
       "      <td>True</td>\n",
       "      <td>True</td>\n",
       "      <td>False</td>\n",
       "      <td>True</td>\n",
       "    </tr>\n",
       "    <tr>\n",
       "      <th>5</th>\n",
       "      <td>True</td>\n",
       "      <td>False</td>\n",
       "      <td>True</td>\n",
       "      <td>False</td>\n",
       "      <td>True</td>\n",
       "      <td>True</td>\n",
       "    </tr>\n",
       "  </tbody>\n",
       "</table>\n",
       "</div>"
      ],
      "text/plain": [
       "         Math_score  Reading_score  Writing_score  Placement_score  \\\n",
       "Roll_no                                                              \n",
       "1              True           True           True             True   \n",
       "2             False           True           True             True   \n",
       "3              True           True           True             True   \n",
       "4              True           True           True             True   \n",
       "5              True          False           True            False   \n",
       "\n",
       "         Club_join_date  Placemen_offer_count  \n",
       "Roll_no                                        \n",
       "1                  True                  True  \n",
       "2                  True                  True  \n",
       "3                  True                  True  \n",
       "4                 False                  True  \n",
       "5                  True                  True  "
      ]
     },
     "execution_count": 6,
     "metadata": {},
     "output_type": "execute_result"
    }
   ],
   "source": [
    "df.notnull().head()"
   ]
  },
  {
   "cell_type": "code",
   "execution_count": 7,
   "metadata": {},
   "outputs": [
    {
     "data": {
      "application/vnd.microsoft.datawrangler.viewer.v0+json": {
       "columns": [
        {
         "name": "Roll_no",
         "rawType": "int64",
         "type": "integer"
        },
        {
         "name": "Math_score",
         "rawType": "float64",
         "type": "float"
        },
        {
         "name": "Reading_score",
         "rawType": "float64",
         "type": "float"
        },
        {
         "name": "Writing_score",
         "rawType": "float64",
         "type": "float"
        },
        {
         "name": "Placement_score",
         "rawType": "float64",
         "type": "float"
        },
        {
         "name": "Club_join_date",
         "rawType": "float64",
         "type": "float"
        },
        {
         "name": "Placemen_offer_count",
         "rawType": "int64",
         "type": "integer"
        }
       ],
       "conversionMethod": "pd.DataFrame",
       "ref": "99c33f04-8466-4e52-87f1-a062830afa0d",
       "rows": [
        [
         "1",
         "62.0",
         "88.0",
         "66.0",
         "86.0",
         "2018.0",
         "3"
        ],
        [
         "2",
         "0.0",
         "88.0",
         "66.0",
         "83.0",
         "2020.0",
         "3"
        ],
        [
         "3",
         "79.0",
         "90.0",
         "75.0",
         "95.0",
         "2021.0",
         "3"
        ],
        [
         "4",
         "69.0",
         "89.0",
         "69.0",
         "82.0",
         "0.0",
         "3"
        ],
        [
         "5",
         "61.0",
         "0.0",
         "67.0",
         "0.0",
         "2019.0",
         "3"
        ]
       ],
       "shape": {
        "columns": 6,
        "rows": 5
       }
      },
      "text/html": [
       "<div>\n",
       "<style scoped>\n",
       "    .dataframe tbody tr th:only-of-type {\n",
       "        vertical-align: middle;\n",
       "    }\n",
       "\n",
       "    .dataframe tbody tr th {\n",
       "        vertical-align: top;\n",
       "    }\n",
       "\n",
       "    .dataframe thead th {\n",
       "        text-align: right;\n",
       "    }\n",
       "</style>\n",
       "<table border=\"1\" class=\"dataframe\">\n",
       "  <thead>\n",
       "    <tr style=\"text-align: right;\">\n",
       "      <th></th>\n",
       "      <th>Math_score</th>\n",
       "      <th>Reading_score</th>\n",
       "      <th>Writing_score</th>\n",
       "      <th>Placement_score</th>\n",
       "      <th>Club_join_date</th>\n",
       "      <th>Placemen_offer_count</th>\n",
       "    </tr>\n",
       "    <tr>\n",
       "      <th>Roll_no</th>\n",
       "      <th></th>\n",
       "      <th></th>\n",
       "      <th></th>\n",
       "      <th></th>\n",
       "      <th></th>\n",
       "      <th></th>\n",
       "    </tr>\n",
       "  </thead>\n",
       "  <tbody>\n",
       "    <tr>\n",
       "      <th>1</th>\n",
       "      <td>62.0</td>\n",
       "      <td>88.0</td>\n",
       "      <td>66.0</td>\n",
       "      <td>86.0</td>\n",
       "      <td>2018.0</td>\n",
       "      <td>3</td>\n",
       "    </tr>\n",
       "    <tr>\n",
       "      <th>2</th>\n",
       "      <td>0.0</td>\n",
       "      <td>88.0</td>\n",
       "      <td>66.0</td>\n",
       "      <td>83.0</td>\n",
       "      <td>2020.0</td>\n",
       "      <td>3</td>\n",
       "    </tr>\n",
       "    <tr>\n",
       "      <th>3</th>\n",
       "      <td>79.0</td>\n",
       "      <td>90.0</td>\n",
       "      <td>75.0</td>\n",
       "      <td>95.0</td>\n",
       "      <td>2021.0</td>\n",
       "      <td>3</td>\n",
       "    </tr>\n",
       "    <tr>\n",
       "      <th>4</th>\n",
       "      <td>69.0</td>\n",
       "      <td>89.0</td>\n",
       "      <td>69.0</td>\n",
       "      <td>82.0</td>\n",
       "      <td>0.0</td>\n",
       "      <td>3</td>\n",
       "    </tr>\n",
       "    <tr>\n",
       "      <th>5</th>\n",
       "      <td>61.0</td>\n",
       "      <td>0.0</td>\n",
       "      <td>67.0</td>\n",
       "      <td>0.0</td>\n",
       "      <td>2019.0</td>\n",
       "      <td>3</td>\n",
       "    </tr>\n",
       "  </tbody>\n",
       "</table>\n",
       "</div>"
      ],
      "text/plain": [
       "         Math_score  Reading_score  Writing_score  Placement_score  \\\n",
       "Roll_no                                                              \n",
       "1              62.0           88.0           66.0             86.0   \n",
       "2               0.0           88.0           66.0             83.0   \n",
       "3              79.0           90.0           75.0             95.0   \n",
       "4              69.0           89.0           69.0             82.0   \n",
       "5              61.0            0.0           67.0              0.0   \n",
       "\n",
       "         Club_join_date  Placemen_offer_count  \n",
       "Roll_no                                        \n",
       "1                2018.0                     3  \n",
       "2                2020.0                     3  \n",
       "3                2021.0                     3  \n",
       "4                   0.0                     3  \n",
       "5                2019.0                     3  "
      ]
     },
     "execution_count": 7,
     "metadata": {},
     "output_type": "execute_result"
    }
   ],
   "source": [
    "ndf = df\n",
    "ndf.fillna(0).head()"
   ]
  },
  {
   "cell_type": "markdown",
   "metadata": {},
   "source": [
    "## Filling  missing values using mean, median  and standard deviation/"
   ]
  },
  {
   "cell_type": "code",
   "execution_count": 8,
   "metadata": {},
   "outputs": [
    {
     "data": {
      "text/plain": [
       "Roll_no\n",
       "1    62.0\n",
       "2     NaN\n",
       "3    79.0\n",
       "4    69.0\n",
       "5    61.0\n",
       "Name: Math_score, dtype: float64"
      ]
     },
     "execution_count": 8,
     "metadata": {},
     "output_type": "execute_result"
    }
   ],
   "source": [
    "df['Math_score'].head()"
   ]
  },
  {
   "cell_type": "code",
   "execution_count": 9,
   "metadata": {},
   "outputs": [
    {
     "data": {
      "text/plain": [
       "Roll_no\n",
       "1    62.000000\n",
       "2    70.285714\n",
       "3    79.000000\n",
       "4    69.000000\n",
       "5    61.000000\n",
       "Name: Math_score, dtype: float64"
      ]
     },
     "execution_count": 9,
     "metadata": {},
     "output_type": "execute_result"
    }
   ],
   "source": [
    "df['Math_score'].fillna(df['Math_score'].mean()).head()"
   ]
  },
  {
   "cell_type": "code",
   "execution_count": 10,
   "metadata": {},
   "outputs": [
    {
     "data": {
      "text/plain": [
       "Roll_no\n",
       "1    62.0\n",
       "2    71.5\n",
       "3    79.0\n",
       "4    69.0\n",
       "5    61.0\n",
       "Name: Math_score, dtype: float64"
      ]
     },
     "execution_count": 10,
     "metadata": {},
     "output_type": "execute_result"
    }
   ],
   "source": [
    "df['Math_score'].fillna(df['Math_score'].median()).head()"
   ]
  },
  {
   "cell_type": "code",
   "execution_count": 11,
   "metadata": {},
   "outputs": [
    {
     "data": {
      "text/plain": [
       "Roll_no\n",
       "1    62.000000\n",
       "2     6.317859\n",
       "3    79.000000\n",
       "4    69.000000\n",
       "5    61.000000\n",
       "Name: Math_score, dtype: float64"
      ]
     },
     "execution_count": 11,
     "metadata": {},
     "output_type": "execute_result"
    }
   ],
   "source": [
    "df['Math_score'] = df['Math_score'].fillna(df['Math_score'].std())\n",
    "df['Math_score'].head()"
   ]
  },
  {
   "cell_type": "markdown",
   "metadata": {},
   "source": [
    "#### filling missing values with min and max values"
   ]
  },
  {
   "cell_type": "code",
   "execution_count": 12,
   "metadata": {},
   "outputs": [
    {
     "data": {
      "text/plain": [
       "Roll_no\n",
       "1    62.000000\n",
       "2     6.317859\n",
       "3    79.000000\n",
       "4    69.000000\n",
       "5    61.000000\n",
       "Name: Math_score, dtype: float64"
      ]
     },
     "execution_count": 12,
     "metadata": {},
     "output_type": "execute_result"
    }
   ],
   "source": [
    "df['Math_score'].fillna(df['Math_score'].min()).head()"
   ]
  },
  {
   "cell_type": "code",
   "execution_count": 13,
   "metadata": {},
   "outputs": [
    {
     "data": {
      "text/plain": [
       "Roll_no\n",
       "1    62.000000\n",
       "2     6.317859\n",
       "3    79.000000\n",
       "4    69.000000\n",
       "5    61.000000\n",
       "Name: Math_score, dtype: float64"
      ]
     },
     "execution_count": 13,
     "metadata": {},
     "output_type": "execute_result"
    }
   ],
   "source": [
    "df['Math_score'].fillna(df['Math_score'].max()).head()"
   ]
  },
  {
   "cell_type": "markdown",
   "metadata": {},
   "source": [
    "#### Using replace method"
   ]
  },
  {
   "cell_type": "code",
   "execution_count": 14,
   "metadata": {},
   "outputs": [
    {
     "data": {
      "application/vnd.microsoft.datawrangler.viewer.v0+json": {
       "columns": [
        {
         "name": "Roll_no",
         "rawType": "int64",
         "type": "integer"
        },
        {
         "name": "Math_score",
         "rawType": "float64",
         "type": "float"
        },
        {
         "name": "Reading_score",
         "rawType": "float64",
         "type": "float"
        },
        {
         "name": "Writing_score",
         "rawType": "float64",
         "type": "float"
        },
        {
         "name": "Placement_score",
         "rawType": "float64",
         "type": "float"
        },
        {
         "name": "Club_join_date",
         "rawType": "float64",
         "type": "float"
        },
        {
         "name": "Placemen_offer_count",
         "rawType": "int64",
         "type": "integer"
        }
       ],
       "conversionMethod": "pd.DataFrame",
       "ref": "502b1ed5-6dc8-484d-be24-bc4630ef57b5",
       "rows": [
        [
         "1",
         "62.0",
         "88.0",
         "66.0",
         "86.0",
         "2018.0",
         "3"
        ],
        [
         "2",
         "6.317859124366728",
         "88.0",
         "66.0",
         "83.0",
         "2020.0",
         "3"
        ],
        [
         "3",
         "79.0",
         "90.0",
         "75.0",
         "95.0",
         "2021.0",
         "3"
        ],
        [
         "4",
         "69.0",
         "89.0",
         "69.0",
         "82.0",
         "-99.0",
         "3"
        ],
        [
         "5",
         "61.0",
         "-99.0",
         "67.0",
         "-99.0",
         "2019.0",
         "3"
        ]
       ],
       "shape": {
        "columns": 6,
        "rows": 5
       }
      },
      "text/html": [
       "<div>\n",
       "<style scoped>\n",
       "    .dataframe tbody tr th:only-of-type {\n",
       "        vertical-align: middle;\n",
       "    }\n",
       "\n",
       "    .dataframe tbody tr th {\n",
       "        vertical-align: top;\n",
       "    }\n",
       "\n",
       "    .dataframe thead th {\n",
       "        text-align: right;\n",
       "    }\n",
       "</style>\n",
       "<table border=\"1\" class=\"dataframe\">\n",
       "  <thead>\n",
       "    <tr style=\"text-align: right;\">\n",
       "      <th></th>\n",
       "      <th>Math_score</th>\n",
       "      <th>Reading_score</th>\n",
       "      <th>Writing_score</th>\n",
       "      <th>Placement_score</th>\n",
       "      <th>Club_join_date</th>\n",
       "      <th>Placemen_offer_count</th>\n",
       "    </tr>\n",
       "    <tr>\n",
       "      <th>Roll_no</th>\n",
       "      <th></th>\n",
       "      <th></th>\n",
       "      <th></th>\n",
       "      <th></th>\n",
       "      <th></th>\n",
       "      <th></th>\n",
       "    </tr>\n",
       "  </thead>\n",
       "  <tbody>\n",
       "    <tr>\n",
       "      <th>1</th>\n",
       "      <td>62.000000</td>\n",
       "      <td>88.0</td>\n",
       "      <td>66.0</td>\n",
       "      <td>86.0</td>\n",
       "      <td>2018.0</td>\n",
       "      <td>3</td>\n",
       "    </tr>\n",
       "    <tr>\n",
       "      <th>2</th>\n",
       "      <td>6.317859</td>\n",
       "      <td>88.0</td>\n",
       "      <td>66.0</td>\n",
       "      <td>83.0</td>\n",
       "      <td>2020.0</td>\n",
       "      <td>3</td>\n",
       "    </tr>\n",
       "    <tr>\n",
       "      <th>3</th>\n",
       "      <td>79.000000</td>\n",
       "      <td>90.0</td>\n",
       "      <td>75.0</td>\n",
       "      <td>95.0</td>\n",
       "      <td>2021.0</td>\n",
       "      <td>3</td>\n",
       "    </tr>\n",
       "    <tr>\n",
       "      <th>4</th>\n",
       "      <td>69.000000</td>\n",
       "      <td>89.0</td>\n",
       "      <td>69.0</td>\n",
       "      <td>82.0</td>\n",
       "      <td>-99.0</td>\n",
       "      <td>3</td>\n",
       "    </tr>\n",
       "    <tr>\n",
       "      <th>5</th>\n",
       "      <td>61.000000</td>\n",
       "      <td>-99.0</td>\n",
       "      <td>67.0</td>\n",
       "      <td>-99.0</td>\n",
       "      <td>2019.0</td>\n",
       "      <td>3</td>\n",
       "    </tr>\n",
       "  </tbody>\n",
       "</table>\n",
       "</div>"
      ],
      "text/plain": [
       "         Math_score  Reading_score  Writing_score  Placement_score  \\\n",
       "Roll_no                                                              \n",
       "1         62.000000           88.0           66.0             86.0   \n",
       "2          6.317859           88.0           66.0             83.0   \n",
       "3         79.000000           90.0           75.0             95.0   \n",
       "4         69.000000           89.0           69.0             82.0   \n",
       "5         61.000000          -99.0           67.0            -99.0   \n",
       "\n",
       "         Club_join_date  Placemen_offer_count  \n",
       "Roll_no                                        \n",
       "1                2018.0                     3  \n",
       "2                2020.0                     3  \n",
       "3                2021.0                     3  \n",
       "4                 -99.0                     3  \n",
       "5                2019.0                     3  "
      ]
     },
     "execution_count": 14,
     "metadata": {},
     "output_type": "execute_result"
    }
   ],
   "source": [
    "df.replace(np.nan,value=-99).head()"
   ]
  },
  {
   "cell_type": "markdown",
   "metadata": {},
   "source": [
    "### Outliers using boxplots and histogram"
   ]
  },
  {
   "cell_type": "code",
   "execution_count": 15,
   "metadata": {},
   "outputs": [],
   "source": [
    "col = [\"Math_score\",\"Writing_score\",\"Reading_score\",\"Placement_score\"]"
   ]
  },
  {
   "cell_type": "code",
   "execution_count": 16,
   "metadata": {},
   "outputs": [
    {
     "data": {
      "text/plain": [
       "<Axes: >"
      ]
     },
     "execution_count": 16,
     "metadata": {},
     "output_type": "execute_result"
    },
    {
     "data": {
      "image/png": "[encoded data removed]",
      "text/plain": [
       "<Figure size 640x480 with 1 Axes>"
      ]
     },
     "metadata": {},
     "output_type": "display_data"
    }
   ],
   "source": [
    "df.boxplot(col)"
   ]
  },
  {
   "cell_type": "code",
   "execution_count": 17,
   "metadata": {},
   "outputs": [
    {
     "name": "stdout",
     "output_type": "stream",
     "text": [
      "(array([], dtype=int64),)\n",
      "(array([], dtype=int64),)\n",
      "(array([], dtype=int64),)\n"
     ]
    }
   ],
   "source": [
    "print(np.where(df['Math_score']>90))\n",
    "print(np.where(df['Reading_score']<25))\n",
    "print(np.where(df['Writing_score']<30))"
   ]
  },
  {
   "cell_type": "code",
   "execution_count": 18,
   "metadata": {},
   "outputs": [],
   "source": [
    "import matplotlib.pyplot as plt\n",
    "%matplotlib inline"
   ]
  },
  {
   "cell_type": "code",
   "execution_count": 19,
   "metadata": {},
   "outputs": [
    {
     "data": {
      "image/png": "[encoded data removed]",
      "text/plain": [
       "<Figure size 640x480 with 1 Axes>"
      ]
     },
     "metadata": {},
     "output_type": "display_data"
    }
   ],
   "source": [
    "df['Math_score'].plot(kind='hist')\n",
    "plt.show()"
   ]
  },
  {
   "cell_type": "markdown",
   "metadata": {},
   "source": [
    "#### skewness in data"
   ]
  },
  {
   "cell_type": "code",
   "execution_count": 20,
   "metadata": {},
   "outputs": [],
   "source": [
    "df['log_math'] = np.log10(df['Math_score'])"
   ]
  },
  {
   "cell_type": "code",
   "execution_count": 21,
   "metadata": {},
   "outputs": [
    {
     "data": {
      "text/plain": [
       "<Axes: ylabel='Frequency'>"
      ]
     },
     "execution_count": 21,
     "metadata": {},
     "output_type": "execute_result"
    },
    {
     "data": {
      "image/png": "[encoded data removed]",
      "text/plain": [
       "<Figure size 640x480 with 1 Axes>"
      ]
     },
     "metadata": {},
     "output_type": "display_data"
    }
   ],
   "source": [
    "df['log_math'].plot(kind='hist')"
   ]
  },
  {
   "cell_type": "markdown",
   "metadata": {},
   "source": [
    "#### Outliers using zscore"
   ]
  },
  {
   "cell_type": "code",
   "execution_count": 22,
   "metadata": {},
   "outputs": [],
   "source": [
    "import numpy as np\n",
    "from scipy import stats"
   ]
  },
  {
   "cell_type": "code",
   "execution_count": 23,
   "metadata": {},
   "outputs": [
    {
     "data": {
      "text/plain": [
       "Roll_no\n",
       "1     62.000000\n",
       "2      6.317859\n",
       "3     79.000000\n",
       "4     69.000000\n",
       "5     61.000000\n",
       "6     67.000000\n",
       "7     74.000000\n",
       "8     66.000000\n",
       "9     71.000000\n",
       "10    70.000000\n",
       "11     6.317859\n",
       "12    72.000000\n",
       "13    75.000000\n",
       "14    79.000000\n",
       "15    64.000000\n",
       "16    74.000000\n",
       "17    67.000000\n",
       "18    77.000000\n",
       "19    66.000000\n",
       "20    72.000000\n",
       "21    73.000000\n",
       "22    72.000000\n",
       "23    79.000000\n",
       "24    60.000000\n",
       "25    64.000000\n",
       "26    77.000000\n",
       "27    60.000000\n",
       "28    78.000000\n",
       "29    78.000000\n",
       "30    62.000000\n",
       "Name: Math_score, dtype: float64"
      ]
     },
     "execution_count": 23,
     "metadata": {},
     "output_type": "execute_result"
    }
   ],
   "source": [
    "df['Math_score']"
   ]
  },
  {
   "cell_type": "code",
   "execution_count": 24,
   "metadata": {},
   "outputs": [
    {
     "data": {
      "text/plain": [
       "array([2.35916930e-01, 3.50270058e+00, 7.61446338e-01, 1.74762063e-01,\n",
       "       2.94585357e-01, 5.74252078e-02, 4.68104200e-01, 1.24321967e-03,\n",
       "       2.92098918e-01, 2.33430490e-01, 3.50270058e+00, 3.50767345e-01,\n",
       "       5.26772628e-01, 7.61446338e-01, 1.18580075e-01, 4.68104200e-01,\n",
       "       5.74252078e-02, 6.44109483e-01, 1.24321967e-03, 3.50767345e-01,\n",
       "       4.09435773e-01, 3.50767345e-01, 7.61446338e-01, 3.53253785e-01,\n",
       "       1.18580075e-01, 6.44109483e-01, 3.53253785e-01, 7.02777910e-01,\n",
       "       7.02777910e-01, 2.35916930e-01])"
      ]
     },
     "execution_count": 24,
     "metadata": {},
     "output_type": "execute_result"
    }
   ],
   "source": [
    "z = np.abs(stats.zscore(df['Math_score']))\n",
    "z"
   ]
  },
  {
   "cell_type": "code",
   "execution_count": 25,
   "metadata": {},
   "outputs": [
    {
     "data": {
      "text/plain": [
       "(array([ 3,  5,  7, 14, 16, 18, 24]),)"
      ]
     },
     "execution_count": 25,
     "metadata": {},
     "output_type": "execute_result"
    }
   ],
   "source": [
    "threshold = 0.18\n",
    "sample_outliers = np.where(z<threshold)\n",
    "sample_outliers\n"
   ]
  },
  {
   "cell_type": "markdown",
   "metadata": {},
   "source": [
    "### detecting outliers with IQR"
   ]
  },
  {
   "cell_type": "code",
   "execution_count": 26,
   "metadata": {},
   "outputs": [],
   "source": [
    "sorted_score = sorted(df['Math_score']) #sort the values"
   ]
  },
  {
   "cell_type": "code",
   "execution_count": 31,
   "metadata": {},
   "outputs": [
    {
     "data": {
      "text/plain": [
       "<Axes: >"
      ]
     },
     "execution_count": 31,
     "metadata": {},
     "output_type": "execute_result"
    },
    {
     "data": {
      "image/png": "[encoded data removed]",
      "text/plain": [
       "<Figure size 640x480 with 1 Axes>"
      ]
     },
     "metadata": {},
     "output_type": "display_data"
    }
   ],
   "source": [
    "df.boxplot(\"Math_score\")"
   ]
  },
  {
   "cell_type": "code",
   "execution_count": 27,
   "metadata": {},
   "outputs": [
    {
     "data": {
      "text/plain": [
       "(np.float64(64.0), np.float64(74.75))"
      ]
     },
     "execution_count": 27,
     "metadata": {},
     "output_type": "execute_result"
    }
   ],
   "source": [
    "q1 = np.percentile(sorted_score,25)\n",
    "q3 = np.percentile(sorted_score,75)\n",
    "q1,q3"
   ]
  },
  {
   "cell_type": "code",
   "execution_count": 28,
   "metadata": {},
   "outputs": [
    {
     "data": {
      "text/plain": [
       "(np.float64(47.875), np.float64(90.875))"
      ]
     },
     "execution_count": 28,
     "metadata": {},
     "output_type": "execute_result"
    }
   ],
   "source": [
    "IQR = q3-q1\n",
    "lwr_bound = q1 - (1.5*IQR)\n",
    "upr_bound = q3 + (1.5*IQR)\n",
    "lwr_bound,upr_bound"
   ]
  },
  {
   "cell_type": "code",
   "execution_count": 29,
   "metadata": {},
   "outputs": [
    {
     "data": {
      "text/plain": [
       "[6.317859124366728, 6.317859124366728]"
      ]
     },
     "execution_count": 29,
     "metadata": {},
     "output_type": "execute_result"
    }
   ],
   "source": [
    "r_outliers = []\n",
    "for i in sorted_score:\n",
    "    if(i<lwr_bound or  i>upr_bound):\n",
    "        r_outliers.append(i)\n",
    "r_outliers"
   ]
  },
  {
   "cell_type": "markdown",
   "metadata": {},
   "source": [
    "#### Removing the outliers"
   ]
  },
  {
   "cell_type": "code",
   "execution_count": 40,
   "metadata": {},
   "outputs": [
    {
     "data": {
      "application/vnd.microsoft.datawrangler.viewer.v0+json": {
       "columns": [
        {
         "name": "Roll_no",
         "rawType": "int64",
         "type": "integer"
        },
        {
         "name": "Math_score",
         "rawType": "float64",
         "type": "float"
        },
        {
         "name": "Reading_score",
         "rawType": "float64",
         "type": "float"
        },
        {
         "name": "Writing_score",
         "rawType": "float64",
         "type": "float"
        },
        {
         "name": "Placement_score",
         "rawType": "float64",
         "type": "float"
        },
        {
         "name": "Club_join_date",
         "rawType": "float64",
         "type": "float"
        },
        {
         "name": "Placemen_offer_count",
         "rawType": "int64",
         "type": "integer"
        },
        {
         "name": "log_math",
         "rawType": "float64",
         "type": "float"
        }
       ],
       "conversionMethod": "pd.DataFrame",
       "ref": "d6ae7cd3-8dca-41c8-8ad9-85a139f42f1c",
       "rows": [
        [
         "1",
         "62.0",
         "88.0",
         "66.0",
         "86.0",
         "2018.0",
         "3",
         "1.792391689498254"
        ],
        [
         "4",
         "69.0",
         "89.0",
         "69.0",
         "82.0",
         null,
         "3",
         "1.8388490907372552"
        ],
        [
         "6",
         "67.0",
         "75.0",
         "77.0",
         "94.0",
         "2021.0",
         "1",
         "1.8260748027008264"
        ],
        [
         "8",
         "66.0",
         "84.0",
         "79.0",
         "77.0",
         "2019.0",
         "1",
         "1.8195439355418688"
        ],
        [
         "9",
         "71.0",
         "95.0",
         "69.0",
         "85.0",
         "2019.0",
         "3",
         "1.8512583487190752"
        ]
       ],
       "shape": {
        "columns": 7,
        "rows": 5
       }
      },
      "text/html": [
       "<div>\n",
       "<style scoped>\n",
       "    .dataframe tbody tr th:only-of-type {\n",
       "        vertical-align: middle;\n",
       "    }\n",
       "\n",
       "    .dataframe tbody tr th {\n",
       "        vertical-align: top;\n",
       "    }\n",
       "\n",
       "    .dataframe thead th {\n",
       "        text-align: right;\n",
       "    }\n",
       "</style>\n",
       "<table border=\"1\" class=\"dataframe\">\n",
       "  <thead>\n",
       "    <tr style=\"text-align: right;\">\n",
       "      <th></th>\n",
       "      <th>Math_score</th>\n",
       "      <th>Reading_score</th>\n",
       "      <th>Writing_score</th>\n",
       "      <th>Placement_score</th>\n",
       "      <th>Club_join_date</th>\n",
       "      <th>Placemen_offer_count</th>\n",
       "      <th>log_math</th>\n",
       "    </tr>\n",
       "    <tr>\n",
       "      <th>Roll_no</th>\n",
       "      <th></th>\n",
       "      <th></th>\n",
       "      <th></th>\n",
       "      <th></th>\n",
       "      <th></th>\n",
       "      <th></th>\n",
       "      <th></th>\n",
       "    </tr>\n",
       "  </thead>\n",
       "  <tbody>\n",
       "    <tr>\n",
       "      <th>1</th>\n",
       "      <td>62.0</td>\n",
       "      <td>88.0</td>\n",
       "      <td>66.0</td>\n",
       "      <td>86.0</td>\n",
       "      <td>2018.0</td>\n",
       "      <td>3</td>\n",
       "      <td>1.792392</td>\n",
       "    </tr>\n",
       "    <tr>\n",
       "      <th>4</th>\n",
       "      <td>69.0</td>\n",
       "      <td>89.0</td>\n",
       "      <td>69.0</td>\n",
       "      <td>82.0</td>\n",
       "      <td>NaN</td>\n",
       "      <td>3</td>\n",
       "      <td>1.838849</td>\n",
       "    </tr>\n",
       "    <tr>\n",
       "      <th>6</th>\n",
       "      <td>67.0</td>\n",
       "      <td>75.0</td>\n",
       "      <td>77.0</td>\n",
       "      <td>94.0</td>\n",
       "      <td>2021.0</td>\n",
       "      <td>1</td>\n",
       "      <td>1.826075</td>\n",
       "    </tr>\n",
       "    <tr>\n",
       "      <th>8</th>\n",
       "      <td>66.0</td>\n",
       "      <td>84.0</td>\n",
       "      <td>79.0</td>\n",
       "      <td>77.0</td>\n",
       "      <td>2019.0</td>\n",
       "      <td>1</td>\n",
       "      <td>1.819544</td>\n",
       "    </tr>\n",
       "    <tr>\n",
       "      <th>9</th>\n",
       "      <td>71.0</td>\n",
       "      <td>95.0</td>\n",
       "      <td>69.0</td>\n",
       "      <td>85.0</td>\n",
       "      <td>2019.0</td>\n",
       "      <td>3</td>\n",
       "      <td>1.851258</td>\n",
       "    </tr>\n",
       "  </tbody>\n",
       "</table>\n",
       "</div>"
      ],
      "text/plain": [
       "         Math_score  Reading_score  Writing_score  Placement_score  \\\n",
       "Roll_no                                                              \n",
       "1              62.0           88.0           66.0             86.0   \n",
       "4              69.0           89.0           69.0             82.0   \n",
       "6              67.0           75.0           77.0             94.0   \n",
       "8              66.0           84.0           79.0             77.0   \n",
       "9              71.0           95.0           69.0             85.0   \n",
       "\n",
       "         Club_join_date  Placemen_offer_count  log_math  \n",
       "Roll_no                                                  \n",
       "1                2018.0                     3  1.792392  \n",
       "4                   NaN                     3  1.838849  \n",
       "6                2021.0                     1  1.826075  \n",
       "8                2019.0                     1  1.819544  \n",
       "9                2019.0                     3  1.851258  "
      ]
     },
     "execution_count": 40,
     "metadata": {},
     "output_type": "execute_result"
    }
   ],
   "source": [
    "ndf = df\n",
    "ndf = ndf[ndf['Math_score'].apply(lambda x: x not in r_outliers)]\n",
    "ndf.head()"
   ]
  },
  {
   "cell_type": "code",
   "execution_count": 41,
   "metadata": {},
   "outputs": [
    {
     "data": {
      "text/plain": [
       "<Axes: >"
      ]
     },
     "execution_count": 41,
     "metadata": {},
     "output_type": "execute_result"
    },
    {
     "data": {
      "image/png": "[encoded data removed]",
      "text/plain": [
       "<Figure size 640x480 with 1 Axes>"
      ]
     },
     "metadata": {},
     "output_type": "display_data"
    }
   ],
   "source": [
    "ndf.boxplot(\"Math_score\")"
   ]
  },
  {
   "cell_type": "code",
   "execution_count": null,
   "metadata": {},
   "outputs": [],
   "source": []
  }
 ],
 "metadata": {
  "kernelspec": {
   "display_name": "nishenv",
   "language": "python",
   "name": "python3"
  },
  "language_info": {
   "codemirror_mode": {
    "name": "ipython",
    "version": 3
   },
   "file_extension": ".py",
   "mimetype": "text/x-python",
   "name": "python",
   "nbconvert_exporter": "python",
   "pygments_lexer": "ipython3",
   "version": "3.12.8"
  }
 },
 "nbformat": 4,
 "nbformat_minor": 2
}
