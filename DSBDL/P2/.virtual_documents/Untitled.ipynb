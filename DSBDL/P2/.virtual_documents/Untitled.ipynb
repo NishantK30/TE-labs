import pandas as pd
import numpy as np


mydict = {'RN':[1,2,3,4,5,6],'SName':['om','sham','ram','jam','kam','dam']}


df1 = pd.DataFrame(mydict)
df1


mydict2 = {'RN':[1,2,3,4,5,6],'Marks':[12,13,15,17,18,18]}


df2 = pd.DataFrame(mydict2)


df = pd.merge(df1,df2,on='RN')


df


pd.unique(df["Marks"]).shape


df3 = pd.DataFrame({"RN": [6],"SName":["nish"],"Marks":[30]})
df3


p = df3.pivot(index='RN',columns='SName',values='Marks')


p





mydict2 = {'RN':[1,2,None,4,None,6],'Marks':[12,13,None,17,18,18]}
df4 = pd.DataFrame(mydict2)
df4


df4.bfill(axis='rows')


df4.ffill()



