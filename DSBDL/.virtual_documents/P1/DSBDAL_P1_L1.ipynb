import pandas as pd
import numpy as np





df = np.array([1,2,3,4,5,6])


pd_series = pd.Series(df)





pd_excel = pd.read_excel("Demo Data DSBDA.xlsx" ,usecols=['Sr. no.',' Roll No','Name of the Student','DM','FDS','OOP','CG','DELD'])


pd_series


pd_excel_to_series = pd.Series(pd_excel['DM'][:67]) 





pd_excel_to_series= pd_excel_to_series.replace('AB','0').astype(float)





pd_excel_to_series.sort_values(ascending=False)


pd_excel.isnull().values.sum() #isnull return a dataframe with boolean values





pd_excel = pd_excel.dropna()





gender = []
for i in range(67):
    if np.random.rand() > 0.5:
        gender.append(1)
    else:
        gender.append(0)
        



pd_excel["Gender"] = gender


pd_excel['Gender']


pd_excel["Gender"] = pd_excel["Gender"].replace({1:'Male',0:'Female'})


pd_excel





pd_excel.drop("Gender",axis=1).set_index("Sr. no.")


pd_excel['DM'] = pd_excel['DM'].replace('AB',0).astype(int)


pd_excel.isnull().values.sum()


pd_excel = pd_excel[pd_excel["DM"]>=20]


pd_excel









