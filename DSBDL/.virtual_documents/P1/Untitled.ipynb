import matplotlib.pyplot as plt
import pandas as pd
from numpy import nan


pd_excel = pd.read_csv("Demo Data DSBDA - Demo Data_DSBDA.csv")


df = pd_excel.filter(items=['DM'])


df = df[:67].replace("AB",0).astype(float)


df['DM'].unique()


fig = plt.figure(figsize=(10,7))
plt.boxplot(df)
plt.legend("Boxplot")
plt.show()


plt.hist(df['DM'],bins=5)





csv_url = 'https://archive.ics.uci.edu/ml/machine-learning-databases/iris/iris.data'


iris = pd.read_csv(csv_url, header = None)



