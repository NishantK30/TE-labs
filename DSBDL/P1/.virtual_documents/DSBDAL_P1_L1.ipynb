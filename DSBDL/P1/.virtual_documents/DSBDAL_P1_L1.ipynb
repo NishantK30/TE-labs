import pandas as pd
import numpy as np





df = np.array([1,2,3,4,5,6])


pd_series = pd.Series(df)





pd_excel = pd.read_excel("Demo Data DSBDA.xlsx" ,usecols=['Sr. no.',' Roll No','Name of the Student','DM','FDS','OOP','CG','DELD'])


pd_series


pd_excel_to_series = pd.Series(pd_excel['DM'][:67]) 





pd_excel_to_series= pd_excel_to_series.replace('AB','0').astype(float)





pd_excel_to_series.sort_values(ascending=False)


pd_excel.isnull().values.sum() #isnull return a dataframe with boolean values





pd_excel = pd_excel.dropna()





gender = []
for i in range(67):
    if np.random.rand() > 0.5:
        gender.append(1)
    else:
        gender.append(0)
        



pd_excel["Gender"] = gender


pd_excel['Gender']


pd_excel["Gender"] = pd_excel["Gender"].replace({1:'Male',0:'Female'})


pd_excel


pd_excel = pd_excel.replace("AB",np.nan)


pd_excel





pd_excel.drop("Gender",axis=1).set_index("Sr. no.")


pd_excel['DM'] = pd_excel['DM'].replace('AB',0).astype(float)


pd_excel.isnull().values.sum()


pd_excel.shape


pd_excel[pd_excel["DM"] >=20]








mydict = {'RN':[1,2,3,4,5,6],'SName':['om','sham','ram','jam','kam','dam']}
df1 = pd.DataFrame(mydict)
df1


mydict2 = {'RN':[1,2,3,4,5,6],'Marks':[12,13,15,17,18,18]}
df2 = pd.DataFrame(mydict2)
df2



df = pd.merge(df1,df2,on='RN')
df


pd.unique(df["Marks"])


pd.unique(df["Marks"]).shape


df.pivot(index='RN',columns='SName',values='Marks')





mydict2 = {'RN':[1,2,None,4,None,6],'Marks':[12,13,None,17,18,18]}
df4 = pd.DataFrame(mydict2)
df4


df4.bfill(axis='rows')


df4.ffill()





pd_groupby = pd_excel.groupby("Gender")
gb = pd_groupby.groups
gb.keys()



pd_groupby.count()


# todd visualize groupby object it is a dictionary like object


pd_groupby.get_group('Male')





pd_excel["DM"].corr(pd_excel["DELD"])


pd_excel['DM'].describe()


pd_excel['DM'].count()


pd_excel['DM'].drop_duplicates().count()



